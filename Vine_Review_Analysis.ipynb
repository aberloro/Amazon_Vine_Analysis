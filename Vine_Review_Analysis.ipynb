{
  "nbformat": 4,
  "nbformat_minor": 0,
  "metadata": {
    "colab": {
      "name": "Vine_Review_Analysis.ipynb",
      "provenance": [],
      "collapsed_sections": []
    },
    "kernelspec": {
      "name": "python3",
      "display_name": "Python 3"
    },
    "language_info": {
      "name": "python"
    }
  },
  "cells": [
    {
      "cell_type": "code",
      "execution_count": 1,
      "metadata": {
        "colab": {
          "base_uri": "https://localhost:8080/"
        },
        "id": "43_-8Rd728XA",
        "outputId": "fdbe90d9-2a8f-4443-b563-f9e0144f64a0"
      },
      "outputs": [
        {
          "output_type": "stream",
          "name": "stdout",
          "text": [
            "\r0% [Working]\r            \rGet:1 http://security.ubuntu.com/ubuntu bionic-security InRelease [88.7 kB]\n",
            "\r0% [Connecting to archive.ubuntu.com (185.125.190.36)] [1 InRelease 0 B/88.7 kB\r0% [Waiting for headers] [Connected to cloud.r-project.org (108.157.162.43)] [W\r0% [1 InRelease gpgv 88.7 kB] [Waiting for headers] [Connected to cloud.r-proje\r                                                                               \rIgn:2 https://developer.download.nvidia.com/compute/cuda/repos/ubuntu1804/x86_64  InRelease\n",
            "\r0% [1 InRelease gpgv 88.7 kB] [Waiting for headers] [Connected to cloud.r-proje\r                                                                               \rHit:3 http://archive.ubuntu.com/ubuntu bionic InRelease\n",
            "\r0% [1 InRelease gpgv 88.7 kB] [Waiting for headers] [Waiting for headers] [Wait\r                                                                               \rGet:4 http://ppa.launchpad.net/c2d4u.team/c2d4u4.0+/ubuntu bionic InRelease [15.9 kB]\n",
            "\r0% [1 InRelease gpgv 88.7 kB] [Waiting for headers] [Waiting for headers] [4 In\r                                                                               \rGet:5 https://cloud.r-project.org/bin/linux/ubuntu bionic-cran40/ InRelease [3,626 B]\n",
            "\r0% [1 InRelease gpgv 88.7 kB] [Waiting for headers] [5 InRelease 3,626 B/3,626 \r0% [1 InRelease gpgv 88.7 kB] [Waiting for headers] [4 InRelease 8,362 B/15.9 k\r                                                                               \rIgn:6 https://developer.download.nvidia.com/compute/machine-learning/repos/ubuntu1804/x86_64  InRelease\n",
            "Hit:7 https://developer.download.nvidia.com/compute/cuda/repos/ubuntu1804/x86_64  Release\n",
            "Hit:8 https://developer.download.nvidia.com/compute/machine-learning/repos/ubuntu1804/x86_64  Release\n",
            "Get:9 http://archive.ubuntu.com/ubuntu bionic-updates InRelease [88.7 kB]\n",
            "Hit:10 http://ppa.launchpad.net/cran/libgit2/ubuntu bionic InRelease\n",
            "Get:11 http://archive.ubuntu.com/ubuntu bionic-backports InRelease [74.6 kB]\n",
            "Get:12 http://ppa.launchpad.net/deadsnakes/ppa/ubuntu bionic InRelease [15.9 kB]\n",
            "Get:13 http://security.ubuntu.com/ubuntu bionic-security/main amd64 Packages [2,694 kB]\n",
            "Hit:14 http://ppa.launchpad.net/graphics-drivers/ppa/ubuntu bionic InRelease\n",
            "Get:17 http://ppa.launchpad.net/c2d4u.team/c2d4u4.0+/ubuntu bionic/main Sources [1,940 kB]\n",
            "Get:18 http://archive.ubuntu.com/ubuntu bionic-updates/main amd64 Packages [3,133 kB]\n",
            "Get:19 http://ppa.launchpad.net/c2d4u.team/c2d4u4.0+/ubuntu bionic/main amd64 Packages [993 kB]\n",
            "Get:20 http://ppa.launchpad.net/deadsnakes/ppa/ubuntu bionic/main amd64 Packages [45.3 kB]\n",
            "Fetched 9,092 kB in 5s (1,744 kB/s)\n",
            "Reading package lists... Done\n"
          ]
        }
      ],
      "source": [
        "import os\n",
        "# Find the latest version of spark 3.0  from http://www.apache.org/dist/spark/ and enter as the spark version\n",
        "# For example:\n",
        "# spark_version = 'spark-3.0.3'\n",
        "spark_version = 'spark-3.0.3'\n",
        "os.environ['SPARK_VERSION']=spark_version\n",
        "\n",
        "# Install Spark and Java\n",
        "!apt-get update\n",
        "!apt-get install openjdk-11-jdk-headless -qq > /dev/null\n",
        "!wget -q http://www.apache.org/dist/spark/$SPARK_VERSION/$SPARK_VERSION-bin-hadoop2.7.tgz\n",
        "!tar xf $SPARK_VERSION-bin-hadoop2.7.tgz\n",
        "!pip install -q findspark\n",
        "\n",
        "# Set Environment Variables\n",
        "import os\n",
        "os.environ[\"JAVA_HOME\"] = \"/usr/lib/jvm/java-11-openjdk-amd64\"\n",
        "os.environ[\"SPARK_HOME\"] = f\"/content/{spark_version}-bin-hadoop2.7\"\n",
        "\n",
        "# Start a SparkSession\n",
        "import findspark\n",
        "findspark.init()"
      ]
    },
    {
      "cell_type": "code",
      "source": [
        "# Download the Postgres driver that will allow Spark to interact with Postgres.\n",
        "!wget https://jdbc.postgresql.org/download/postgresql-42.2.16.jar"
      ],
      "metadata": {
        "colab": {
          "base_uri": "https://localhost:8080/"
        },
        "id": "fWGVV4cZ3MFO",
        "outputId": "47deb281-04ed-4676-dce8-bfb3e08dfae8"
      },
      "execution_count": 2,
      "outputs": [
        {
          "output_type": "stream",
          "name": "stdout",
          "text": [
            "--2022-04-11 23:02:50--  https://jdbc.postgresql.org/download/postgresql-42.2.16.jar\n",
            "Resolving jdbc.postgresql.org (jdbc.postgresql.org)... 72.32.157.228, 2001:4800:3e1:1::228\n",
            "Connecting to jdbc.postgresql.org (jdbc.postgresql.org)|72.32.157.228|:443... connected.\n",
            "HTTP request sent, awaiting response... 200 OK\n",
            "Length: 1002883 (979K) [application/java-archive]\n",
            "Saving to: ‘postgresql-42.2.16.jar’\n",
            "\n",
            "postgresql-42.2.16. 100%[===================>] 979.38K  --.-KB/s    in 0.1s    \n",
            "\n",
            "2022-04-11 23:02:50 (6.53 MB/s) - ‘postgresql-42.2.16.jar’ saved [1002883/1002883]\n",
            "\n"
          ]
        }
      ]
    },
    {
      "cell_type": "code",
      "source": [
        "from pyspark.sql import SparkSession\n",
        "spark = SparkSession.builder.appName(\"M16-Amazon-Challenge-Deliveable2\").config(\"spark.driver.extraClassPath\",\"/content/postgresql-42.2.16.jar\").getOrCreate()"
      ],
      "metadata": {
        "id": "nkb20vcI3P9W"
      },
      "execution_count": 3,
      "outputs": []
    },
    {
      "cell_type": "code",
      "source": [
        "from pyspark import SparkFiles\n",
        "url = \"https://s3.amazonaws.com/amazon-reviews-pds/tsv/amazon_reviews_us_Baby_v1_00.tsv.gz\"\n",
        "spark.sparkContext.addFile(url)\n",
        "df = spark.read.option(\"encoding\", \"UTF-8\").csv(SparkFiles.get(\"\"), sep=\"\\t\", header=True, inferSchema=True)\n",
        "df.show()"
      ],
      "metadata": {
        "colab": {
          "base_uri": "https://localhost:8080/"
        },
        "id": "GOFwMidw3ao2",
        "outputId": "ffbbf2c8-568a-429c-b76d-bef83d2c735c"
      },
      "execution_count": 4,
      "outputs": [
        {
          "output_type": "stream",
          "name": "stdout",
          "text": [
            "+-----------+-----------+--------------+----------+--------------+--------------------+----------------+-----------+-------------+-----------+----+-----------------+--------------------+--------------------+-----------+\n",
            "|marketplace|customer_id|     review_id|product_id|product_parent|       product_title|product_category|star_rating|helpful_votes|total_votes|vine|verified_purchase|     review_headline|         review_body|review_date|\n",
            "+-----------+-----------+--------------+----------+--------------+--------------------+----------------+-----------+-------------+-----------+----+-----------------+--------------------+--------------------+-----------+\n",
            "|         US|    9970739| R8EWA1OFT84NX|B00GSP5D94|     329991347|Summer Infant Swa...|            Baby|          5|            0|          0|   N|                Y|Great swaddled bl...|Loved these swadd...| 2015-08-31|\n",
            "|         US|   23538442|R2JWY4YRQD4FOP|B00YYDDZGU|     646108902|Pacifier Clip Gir...|            Baby|          5|            0|          0|   N|                N|Too cute and real...|These are adorabl...| 2015-08-31|\n",
            "|         US|    8273344| RL5ESX231LZ0B|B00BUBNZC8|     642922361|Udder Covers - Br...|            Baby|          5|            0|          0|   N|                Y|          Five Stars|          Great gift| 2015-08-31|\n",
            "|         US|   24557753| RRMS9ZWJ2KD08|B00AWLZFTS|     494272733|Gerber Graduates ...|            Baby|          5|            0|          0|   N|                Y|Cute; wash up nic...|These forks are g...| 2015-08-31|\n",
            "|         US|   46263340|R14I3ZG5E6S7YM|B00KM60D3Q|     305813185|Summer Infant Ult...|            Baby|          5|            0|          0|   N|                Y|            Love it!|I wanted somethin...| 2015-08-31|\n",
            "|         US|   24557753|R13EPSFP5DODN5|B00PQMRZG4|     607341708|Summer Infant Kee...|            Baby|          4|            0|          0|   N|                Y|        Rips easily.|Loved with daught...| 2015-08-31|\n",
            "|         US|   33520065| R6RBP4HTE67SY|B005DL5970|     971881542|Natural HE Powder...|            Baby|          5|            0|          0|   N|                Y|Cloth Diaper Dete...|This is a great d...| 2015-08-31|\n",
            "|         US|   20241560|R15B3EU40RSU2W|B00C6D2WL4|      93827401|Dr. Brown's Bottl...|            Baby|          5|            0|          0|   N|                Y|          Five Stars|                good| 2015-08-31|\n",
            "|         US|    9987983| RP4DD53A4ZJA2|B0083973FK|     958629336|Sposie Booster Pa...|            Baby|          5|            0|          0|   N|                Y|          Five Stars|With these my mil...| 2015-08-31|\n",
            "|         US|   52570308|R2C99DJEO4RZ4K|B00RLYG2S2|     147324304|Abiie Beyond Wood...|            Baby|          5|            3|          4|   N|                Y|So far I love thi...|So far I love thi...| 2015-08-31|\n",
            "|         US|    9287389| REV51EW323H8W|B010UX9T5I|     446691106|Lovinglove Baby G...|            Baby|          5|            0|          0|   N|                Y|          Five Stars|           Love them| 2015-08-31|\n",
            "|         US|   32840762|R2GQ3W03WIUZKE|B00VWBY7SC|     271204734|Bugzi Stroller Ho...|            Baby|          5|            0|          0|   N|                Y|Love these hooks ...|Love these hooks ...| 2015-08-31|\n",
            "|         US|    7797182| RTI1YI7K6GE3D|B006ZBPH24|      67911244|Born Free 5 oz. B...|            Baby|          5|            0|          0|   N|                Y|          Five Stars|           very good| 2015-08-31|\n",
            "|         US|   14788115|R3V9C2C0SPSZU6|B00UGV8BEU|     613360092|Baby Bandana Bibs...|            Baby|          5|            0|          0|   N|                Y|            Perfect!|Love these bibs! ...| 2015-08-31|\n",
            "|         US|   37909065|R1LB42XCSSCLV6|B005BIOOYO|     527977399|Flip Stay-Dry Ins...|            Baby|          5|            0|          0|   N|                Y|best inserts for ...|I love these. The...| 2015-08-31|\n",
            "|         US|   15935520|R113NWCW6STTMC|B0071D1AKI|     634188771|Aqueduck The ORIG...|            Baby|          5|            0|          0|   N|                Y|        Very Helpful|This worked exact...| 2015-08-31|\n",
            "|         US|   16308044| RWRN5XK337N41|B00M2F0OYS|     166133791|Motorola Baby Mon...|            Baby|          1|            0|          0|   N|                N|Very Dissapointed...|I am so disappoin...| 2015-08-31|\n",
            "|         US|    8168178| RF4WL3QEP3PVI|B00QCBD5AS|     294351494|Minnie Mouse Delu...|            Baby|          1|            0|          0|   N|                Y|            One Star|Ordered minnie mo...| 2015-08-31|\n",
            "|         US|   23299101|R2DRL5NRODVQ3Z|B00SN6F9NG|       3470998|Rhoost Nail Clipp...|            Baby|          5|            2|          2|   N|                Y|If fits so comfor...|This is an absolu...| 2015-08-31|\n",
            "|         US|   14261025|R3T9B92MDDHKMM|B00J0YTS1E|     488640919|My Natural Owl Mu...|            Baby|          2|            5|          5|   N|                Y|Used to be great....|They changed the ...| 2015-08-31|\n",
            "+-----------+-----------+--------------+----------+--------------+--------------------+----------------+-----------+-------------+-----------+----+-----------------+--------------------+--------------------+-----------+\n",
            "only showing top 20 rows\n",
            "\n"
          ]
        }
      ]
    },
    {
      "cell_type": "code",
      "source": [
        "# Create the vine_table. DataFrame\n",
        "vine_df = df.select([\"review_id\",\"star_rating\",\"helpful_votes\",\"total_votes\",\"vine\",\"verified_purchase\"])\n",
        "vine_df.show(10)"
      ],
      "metadata": {
        "colab": {
          "base_uri": "https://localhost:8080/"
        },
        "id": "s5ZILLRv3lA9",
        "outputId": "5b923a58-d581-4e20-9cf8-8802a964b5bb"
      },
      "execution_count": 5,
      "outputs": [
        {
          "output_type": "stream",
          "name": "stdout",
          "text": [
            "+--------------+-----------+-------------+-----------+----+-----------------+\n",
            "|     review_id|star_rating|helpful_votes|total_votes|vine|verified_purchase|\n",
            "+--------------+-----------+-------------+-----------+----+-----------------+\n",
            "| R8EWA1OFT84NX|          5|            0|          0|   N|                Y|\n",
            "|R2JWY4YRQD4FOP|          5|            0|          0|   N|                N|\n",
            "| RL5ESX231LZ0B|          5|            0|          0|   N|                Y|\n",
            "| RRMS9ZWJ2KD08|          5|            0|          0|   N|                Y|\n",
            "|R14I3ZG5E6S7YM|          5|            0|          0|   N|                Y|\n",
            "|R13EPSFP5DODN5|          4|            0|          0|   N|                Y|\n",
            "| R6RBP4HTE67SY|          5|            0|          0|   N|                Y|\n",
            "|R15B3EU40RSU2W|          5|            0|          0|   N|                Y|\n",
            "| RP4DD53A4ZJA2|          5|            0|          0|   N|                Y|\n",
            "|R2C99DJEO4RZ4K|          5|            3|          4|   N|                Y|\n",
            "+--------------+-----------+-------------+-----------+----+-----------------+\n",
            "only showing top 10 rows\n",
            "\n"
          ]
        }
      ]
    },
    {
      "cell_type": "code",
      "source": [
        "#load sql function to use columns\n",
        "from pyspark.sql.functions import col\n",
        "#filter columns w >20 votes\n",
        "filtered_df = vine_df.filter(col(\"total_votes\") >= 20)\n",
        "filtered_df.show()"
      ],
      "metadata": {
        "colab": {
          "base_uri": "https://localhost:8080/"
        },
        "id": "vBPGLZgC3y8X",
        "outputId": "2f9367f6-a4eb-4ce8-97fa-8540e04b542a"
      },
      "execution_count": 6,
      "outputs": [
        {
          "output_type": "stream",
          "name": "stdout",
          "text": [
            "+--------------+-----------+-------------+-----------+----+-----------------+\n",
            "|     review_id|star_rating|helpful_votes|total_votes|vine|verified_purchase|\n",
            "+--------------+-----------+-------------+-----------+----+-----------------+\n",
            "| ROI00QN8IS49I|          5|           83|         91|   N|                N|\n",
            "|R13C5INE1RTZP6|          2|           26|         26|   N|                Y|\n",
            "| RXVMMXCL67MZN|          4|          378|        383|   N|                Y|\n",
            "|R33JJQWAUYBKD3|          5|          270|        280|   N|                Y|\n",
            "|R3N0XV9267NOXV|          5|           41|         47|   Y|                N|\n",
            "|R31HQD6YXSQV1W|          3|           40|         48|   N|                Y|\n",
            "|R33LQSF958O6K8|          5|           39|         41|   N|                Y|\n",
            "|R3OIDSQJ84W7J1|          5|           21|         24|   N|                N|\n",
            "|R3UUR313K5VVTL|          1|            1|         24|   N|                Y|\n",
            "| RODE8K12S7148|          5|           41|         45|   N|                Y|\n",
            "|R2QZFYFUKP22SP|          5|           33|         37|   N|                Y|\n",
            "| RFON10GAZKDL3|          3|           16|         20|   N|                Y|\n",
            "|R2UXKAUFMPE0PJ|          1|           29|         29|   N|                N|\n",
            "|R20YYYGIRVB7F1|          1|           32|         41|   N|                N|\n",
            "|R36065K853ACRA|          3|           28|         34|   N|                Y|\n",
            "| RBS6RYHXL83L8|          5|           49|         57|   N|                Y|\n",
            "|R2D5JAVXATJOQB|          4|           45|         48|   N|                Y|\n",
            "|R1SUS9Y51N3QO8|          1|           42|         46|   N|                N|\n",
            "|R3DKDS7674IU4Z|          5|           29|         31|   N|                N|\n",
            "|R3VER1GSR74AHB|          4|           38|         39|   N|                Y|\n",
            "+--------------+-----------+-------------+-----------+----+-----------------+\n",
            "only showing top 20 rows\n",
            "\n"
          ]
        }
      ]
    },
    {
      "cell_type": "code",
      "source": [
        "filtered_df.dtypes"
      ],
      "metadata": {
        "colab": {
          "base_uri": "https://localhost:8080/"
        },
        "id": "qc5ZyB9N6G8H",
        "outputId": "07856f63-f33e-4d67-9556-018e32421ba6"
      },
      "execution_count": 8,
      "outputs": [
        {
          "output_type": "execute_result",
          "data": {
            "text/plain": [
              "[('review_id', 'string'),\n",
              " ('star_rating', 'int'),\n",
              " ('helpful_votes', 'int'),\n",
              " ('total_votes', 'int'),\n",
              " ('vine', 'string'),\n",
              " ('verified_purchase', 'string')]"
            ]
          },
          "metadata": {},
          "execution_count": 8
        }
      ]
    },
    {
      "cell_type": "code",
      "source": [
        "#filter helpful_votes/total_votes >= 50%\n",
        "helpful_df = filtered_df.filter(col(\"helpful_votes\")/col(\"total_votes\")>=.5)\n",
        "helpful_df.show()"
      ],
      "metadata": {
        "colab": {
          "base_uri": "https://localhost:8080/"
        },
        "id": "lGaj2c3V4klN",
        "outputId": "d6660147-62ab-40f6-eda6-a64dc18aae5e"
      },
      "execution_count": 10,
      "outputs": [
        {
          "output_type": "stream",
          "name": "stdout",
          "text": [
            "+--------------+-----------+-------------+-----------+----+-----------------+\n",
            "|     review_id|star_rating|helpful_votes|total_votes|vine|verified_purchase|\n",
            "+--------------+-----------+-------------+-----------+----+-----------------+\n",
            "| ROI00QN8IS49I|          5|           83|         91|   N|                N|\n",
            "|R13C5INE1RTZP6|          2|           26|         26|   N|                Y|\n",
            "| RXVMMXCL67MZN|          4|          378|        383|   N|                Y|\n",
            "|R33JJQWAUYBKD3|          5|          270|        280|   N|                Y|\n",
            "|R3N0XV9267NOXV|          5|           41|         47|   Y|                N|\n",
            "|R31HQD6YXSQV1W|          3|           40|         48|   N|                Y|\n",
            "|R33LQSF958O6K8|          5|           39|         41|   N|                Y|\n",
            "|R3OIDSQJ84W7J1|          5|           21|         24|   N|                N|\n",
            "| RODE8K12S7148|          5|           41|         45|   N|                Y|\n",
            "|R2QZFYFUKP22SP|          5|           33|         37|   N|                Y|\n",
            "| RFON10GAZKDL3|          3|           16|         20|   N|                Y|\n",
            "|R2UXKAUFMPE0PJ|          1|           29|         29|   N|                N|\n",
            "|R20YYYGIRVB7F1|          1|           32|         41|   N|                N|\n",
            "|R36065K853ACRA|          3|           28|         34|   N|                Y|\n",
            "| RBS6RYHXL83L8|          5|           49|         57|   N|                Y|\n",
            "|R2D5JAVXATJOQB|          4|           45|         48|   N|                Y|\n",
            "|R1SUS9Y51N3QO8|          1|           42|         46|   N|                N|\n",
            "|R3DKDS7674IU4Z|          5|           29|         31|   N|                N|\n",
            "|R3VER1GSR74AHB|          4|           38|         39|   N|                Y|\n",
            "| R4KKILPJRQ2J5|          1|           12|         20|   N|                Y|\n",
            "+--------------+-----------+-------------+-----------+----+-----------------+\n",
            "only showing top 20 rows\n",
            "\n"
          ]
        }
      ]
    },
    {
      "cell_type": "markdown",
      "source": [
        "## paid (vine) review analysis"
      ],
      "metadata": {
        "id": "YUiNfn9u9N-f"
      }
    },
    {
      "cell_type": "code",
      "source": [
        "#filter vine reviews\n",
        "vine_df = helpful_df.filter(col(\"vine\")==\"Y\")\n",
        "vine_df.show()"
      ],
      "metadata": {
        "colab": {
          "base_uri": "https://localhost:8080/"
        },
        "id": "9w3eH8sj6xRn",
        "outputId": "28e9e18b-f590-45f6-eaed-c39d9da33dfb"
      },
      "execution_count": 11,
      "outputs": [
        {
          "output_type": "stream",
          "name": "stdout",
          "text": [
            "+--------------+-----------+-------------+-----------+----+-----------------+\n",
            "|     review_id|star_rating|helpful_votes|total_votes|vine|verified_purchase|\n",
            "+--------------+-----------+-------------+-----------+----+-----------------+\n",
            "|R3N0XV9267NOXV|          5|           41|         47|   Y|                N|\n",
            "| RSA6JQ346JZHZ|          5|           55|         64|   Y|                Y|\n",
            "|R1FXF4HRMCLG4C|          5|           69|         84|   Y|                N|\n",
            "| RCTBWC3II42MG|          4|          113|        117|   Y|                N|\n",
            "| RTMQM2CQ1XIZ0|          5|           21|         25|   Y|                N|\n",
            "|R2CBJLCKQ612KU|          4|           27|         35|   Y|                N|\n",
            "|R322QDGO4AV2B5|          5|           55|         65|   Y|                N|\n",
            "| R2S7CXRDGQ6EE|          4|           36|         39|   Y|                N|\n",
            "|R3ECMXK0SGR1VV|          5|           59|         64|   Y|                N|\n",
            "|R3D55CPJ6J6Z78|          4|           15|         20|   Y|                N|\n",
            "|R1Y9OYIUCP3WD2|          4|           20|         20|   Y|                N|\n",
            "| RT8AV0IB2PGHH|          4|          108|        132|   Y|                N|\n",
            "|R2RLHJRJD9B0NX|          3|           44|         47|   Y|                N|\n",
            "| RAPD7IX0LPZ10|          4|           36|         37|   Y|                N|\n",
            "|R37QPCBNR07PPR|          1|           22|         27|   Y|                N|\n",
            "|R3BRFPK8N59XPY|          5|          364|        395|   Y|                N|\n",
            "|R1WE59I775L7L9|          4|           31|         33|   Y|                N|\n",
            "| RO8IGQJV1PKCJ|          5|           78|         84|   Y|                N|\n",
            "| RWZDJT9MQP6A4|          5|           86|         97|   Y|                N|\n",
            "|R2VDXEVKFSJU36|          5|           20|         22|   Y|                N|\n",
            "+--------------+-----------+-------------+-----------+----+-----------------+\n",
            "only showing top 20 rows\n",
            "\n"
          ]
        }
      ]
    },
    {
      "cell_type": "code",
      "source": [
        "# total paid (vine) reviews\n",
        "vine_review_count = vine_df.count()\n",
        "vine_review_count"
      ],
      "metadata": {
        "colab": {
          "base_uri": "https://localhost:8080/"
        },
        "id": "i3fpbUP-7yaY",
        "outputId": "13c942e4-3c39-46eb-bc0c-fbd9dabcdddf"
      },
      "execution_count": 13,
      "outputs": [
        {
          "output_type": "execute_result",
          "data": {
            "text/plain": [
              "463"
            ]
          },
          "metadata": {},
          "execution_count": 13
        }
      ]
    },
    {
      "cell_type": "code",
      "source": [
        "# total 5-star vine reviews\n",
        "five_star_vines = vine_df.filter(col(\"star_rating\") == 5).count() \n",
        "five_star_vines"
      ],
      "metadata": {
        "colab": {
          "base_uri": "https://localhost:8080/"
        },
        "id": "UNR4bTMo8FFW",
        "outputId": "a86c48ee-6aa3-428f-e03d-8c7b1f95f632"
      },
      "execution_count": 14,
      "outputs": [
        {
          "output_type": "execute_result",
          "data": {
            "text/plain": [
              "202"
            ]
          },
          "metadata": {},
          "execution_count": 14
        }
      ]
    },
    {
      "cell_type": "code",
      "source": [
        "# percent 5-star vine reviews\n",
        "five_vine_percent = five_star_vines/vine_review_count*100\n",
        "five_vine_percent"
      ],
      "metadata": {
        "colab": {
          "base_uri": "https://localhost:8080/"
        },
        "id": "zyn_-yxB80Lm",
        "outputId": "249a4921-bcc3-4eb1-a5ac-906c9d25a1ab"
      },
      "execution_count": 15,
      "outputs": [
        {
          "output_type": "execute_result",
          "data": {
            "text/plain": [
              "43.628509719222464"
            ]
          },
          "metadata": {},
          "execution_count": 15
        }
      ]
    },
    {
      "cell_type": "markdown",
      "source": [
        "## unpaid (non-vine) review analysis"
      ],
      "metadata": {
        "id": "uxhDC5Xh9etP"
      }
    },
    {
      "cell_type": "code",
      "source": [
        "#filter non-vine reviews\n",
        "non_vine_df = helpful_df.filter(col(\"vine\")==\"N\")\n",
        "non_vine_df.show()"
      ],
      "metadata": {
        "colab": {
          "base_uri": "https://localhost:8080/"
        },
        "id": "agWC9wWW7OM8",
        "outputId": "28972c16-abf7-4088-dfe4-b70dab7a74fe"
      },
      "execution_count": 12,
      "outputs": [
        {
          "output_type": "stream",
          "name": "stdout",
          "text": [
            "+--------------+-----------+-------------+-----------+----+-----------------+\n",
            "|     review_id|star_rating|helpful_votes|total_votes|vine|verified_purchase|\n",
            "+--------------+-----------+-------------+-----------+----+-----------------+\n",
            "| ROI00QN8IS49I|          5|           83|         91|   N|                N|\n",
            "|R13C5INE1RTZP6|          2|           26|         26|   N|                Y|\n",
            "| RXVMMXCL67MZN|          4|          378|        383|   N|                Y|\n",
            "|R33JJQWAUYBKD3|          5|          270|        280|   N|                Y|\n",
            "|R31HQD6YXSQV1W|          3|           40|         48|   N|                Y|\n",
            "|R33LQSF958O6K8|          5|           39|         41|   N|                Y|\n",
            "|R3OIDSQJ84W7J1|          5|           21|         24|   N|                N|\n",
            "| RODE8K12S7148|          5|           41|         45|   N|                Y|\n",
            "|R2QZFYFUKP22SP|          5|           33|         37|   N|                Y|\n",
            "| RFON10GAZKDL3|          3|           16|         20|   N|                Y|\n",
            "|R2UXKAUFMPE0PJ|          1|           29|         29|   N|                N|\n",
            "|R20YYYGIRVB7F1|          1|           32|         41|   N|                N|\n",
            "|R36065K853ACRA|          3|           28|         34|   N|                Y|\n",
            "| RBS6RYHXL83L8|          5|           49|         57|   N|                Y|\n",
            "|R2D5JAVXATJOQB|          4|           45|         48|   N|                Y|\n",
            "|R1SUS9Y51N3QO8|          1|           42|         46|   N|                N|\n",
            "|R3DKDS7674IU4Z|          5|           29|         31|   N|                N|\n",
            "|R3VER1GSR74AHB|          4|           38|         39|   N|                Y|\n",
            "| R4KKILPJRQ2J5|          1|           12|         20|   N|                Y|\n",
            "| RE1XO71W5US5S|          1|           28|         30|   N|                Y|\n",
            "+--------------+-----------+-------------+-----------+----+-----------------+\n",
            "only showing top 20 rows\n",
            "\n"
          ]
        }
      ]
    },
    {
      "cell_type": "code",
      "source": [
        "# total unpaid (non-vine) reviews\n",
        "non_vine_review_count = non_vine_df.count()\n",
        "non_vine_review_count"
      ],
      "metadata": {
        "colab": {
          "base_uri": "https://localhost:8080/"
        },
        "id": "NrfHKa5M7blH",
        "outputId": "7cd2fb91-cc1a-4b1d-a34d-41e234f2cdf3"
      },
      "execution_count": 16,
      "outputs": [
        {
          "output_type": "execute_result",
          "data": {
            "text/plain": [
              "25094"
            ]
          },
          "metadata": {},
          "execution_count": 16
        }
      ]
    },
    {
      "cell_type": "code",
      "source": [
        "# total 5-star non-vine reviews\n",
        "five_star_non_vines = non_vine_df.filter(col(\"star_rating\") == 5).count() \n",
        "five_star_non_vines"
      ],
      "metadata": {
        "colab": {
          "base_uri": "https://localhost:8080/"
        },
        "id": "2dbz71cT9v0-",
        "outputId": "e25f9883-00ff-4366-c65f-d71415611c2d"
      },
      "execution_count": 17,
      "outputs": [
        {
          "output_type": "execute_result",
          "data": {
            "text/plain": [
              "12033"
            ]
          },
          "metadata": {},
          "execution_count": 17
        }
      ]
    },
    {
      "cell_type": "code",
      "source": [
        "# percent 5-star non-vine reviews\n",
        "five_non_vine_percent = five_star_non_vines/non_vine_review_count*100\n",
        "five_non_vine_percent"
      ],
      "metadata": {
        "colab": {
          "base_uri": "https://localhost:8080/"
        },
        "id": "f5ehMpHw94_e",
        "outputId": "cf9b381d-3cac-4964-cb5d-29e1b5239f75"
      },
      "execution_count": 18,
      "outputs": [
        {
          "output_type": "execute_result",
          "data": {
            "text/plain": [
              "47.95170160197657"
            ]
          },
          "metadata": {},
          "execution_count": 18
        }
      ]
    }
  ]
}